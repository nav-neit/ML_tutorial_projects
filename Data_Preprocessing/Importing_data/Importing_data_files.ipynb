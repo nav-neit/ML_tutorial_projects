{
 "cells": [
  {
   "cell_type": "markdown",
   "metadata": {},
   "source": [
    "\n",
    "# Importing CSV,JSON,XLS Files in python"
   ]
  },
  {
   "cell_type": "markdown",
   "metadata": {},
   "source": [
    "### CSV "
   ]
  },
  {
   "cell_type": "code",
   "execution_count": 1,
   "metadata": {},
   "outputs": [
    {
     "name": "stdout",
     "output_type": "stream",
     "text": [
      "   first_name       last_name                           email\n",
      "0        John             Doe         john-doe@bogusemail.com\n",
      "1        Mary  Smith-Robinson       maryjacobs@bogusemail.com\n",
      "2        Dave           Smith        davesmith@bogusemail.com\n",
      "3        Jane          Stuart       janestuart@bogusemail.com\n",
      "4         Tom          Wright        tomwright@bogusemail.com\n",
      "5       Steve        Robinson    steverobinson@bogusemail.com\n",
      "6      Nicole          Jacobs     nicolejacobs@bogusemail.com\n",
      "7        Jane          Wright       janewright@bogusemail.com\n",
      "8        Jane             Doe          janedoe@bogusemail.com\n",
      "9        Kurt          Wright       kurtwright@bogusemail.com\n",
      "10       Kurt        Robinson     kurtrobinson@bogusemail.com\n",
      "11       Jane         Jenkins      janejenkins@bogusemail.com\n",
      "12       Neil        Robinson     neilrobinson@bogusemail.com\n",
      "13        Tom       Patterson     tompatterson@bogusemail.com\n",
      "14        Sam         Jenkins       samjenkins@bogusemail.com\n",
      "15      Steve          Stuart      stevestuart@bogusemail.com\n",
      "16     Maggie       Patterson  maggiepatterson@bogusemail.com\n",
      "17     Maggie          Stuart     maggiestuart@bogusemail.com\n",
      "18       Jane             Doe          janedoe@bogusemail.com\n",
      "19      Steve       Patterson   stevepatterson@bogusemail.com\n",
      "20       Dave           Smith        davesmith@bogusemail.com\n",
      "21        Sam           Wilks         samwilks@bogusemail.com\n",
      "22       Kurt       Jefferson    kurtjefferson@bogusemail.com\n",
      "23        Sam          Stuart        samstuart@bogusemail.com\n",
      "24       Jane          Stuart       janestuart@bogusemail.com\n",
      "25       Dave           Davis        davedavis@bogusemail.com\n",
      "26        Sam       Patterson     sampatterson@bogusemail.com\n",
      "27        Tom       Jefferson     tomjefferson@bogusemail.com\n",
      "28       Jane          Stuart       janestuart@bogusemail.com\n",
      "29     Maggie       Jefferson  maggiejefferson@bogusemail.com\n",
      "30       Mary           Wilks        marywilks@bogusemail.com\n",
      "31       Neil       Patterson    neilpatterson@bogusemail.com\n",
      "32      Corey           Davis       coreydavis@bogusemail.com\n",
      "33      Steve          Jacobs      stevejacobs@bogusemail.com\n",
      "34       Jane         Jenkins      janejenkins@bogusemail.com\n",
      "35       John          Jacobs       johnjacobs@bogusemail.com\n",
      "36       Neil           Smith        neilsmith@bogusemail.com\n",
      "37      Corey           Wilks       coreywilks@bogusemail.com\n",
      "38      Corey           Smith       coreysmith@bogusemail.com\n",
      "39       Mary       Patterson    marypatterson@bogusemail.com\n",
      "40       Jane          Stuart       janestuart@bogusemail.com\n",
      "41     Travis          Arnold     travisarnold@bogusemail.com\n",
      "42       John        Robinson     johnrobinson@bogusemail.com\n",
      "43     Travis          Arnold     travisarnold@bogusemail.com\n"
     ]
    }
   ],
   "source": [
    "import pandas as pd\n",
    "df = pd.read_csv('names.csv')\n",
    "print(df)"
   ]
  },
  {
   "cell_type": "code",
   "execution_count": 2,
   "metadata": {},
   "outputs": [
    {
     "name": "stdout",
     "output_type": "stream",
     "text": [
      "  first_name       last_name                      email\n",
      "0       John             Doe    john-doe@bogusemail.com\n",
      "1       Mary  Smith-Robinson  maryjacobs@bogusemail.com\n",
      "2       Dave           Smith   davesmith@bogusemail.com\n",
      "3       Jane          Stuart  janestuart@bogusemail.com\n",
      "4        Tom          Wright   tomwright@bogusemail.com\n"
     ]
    }
   ],
   "source": [
    "print(df[0:5])"
   ]
  },
  {
   "cell_type": "code",
   "execution_count": 3,
   "metadata": {},
   "outputs": [
    {
     "name": "stdout",
     "output_type": "stream",
     "text": [
      "  first_name last_name\n",
      "2       Dave     Smith\n",
      "6     Nicole    Jacobs\n",
      "8       Jane       Doe\n"
     ]
    }
   ],
   "source": [
    "print(df.loc[[2,6,8],['first_name','last_name']])"
   ]
  },
  {
   "cell_type": "markdown",
   "metadata": {},
   "source": [
    "#### JSON"
   ]
  },
  {
   "cell_type": "code",
   "execution_count": 4,
   "metadata": {},
   "outputs": [
    {
     "name": "stdout",
     "output_type": "stream",
     "text": [
      "   ID             Title       Timing   Genre  Rating\n",
      "0   1   Dog with a Blog  17:30-18:00  Comedy     4.7\n",
      "1   2    Liv and Maddie  18:00-18:30  Comedy     6.3\n",
      "2   3  Girl Meets World  18:30-19:00  Comedy     7.2\n",
      "3   4     KC Undercover  19:00-19:30  Comedy     6.1\n",
      "4   5   Austin and Ally  19:30-20:00  Comedy     6.0\n"
     ]
    }
   ],
   "source": [
    "df2 = pd.read_json('sample2.json')\n",
    "print(df2)"
   ]
  },
  {
   "cell_type": "markdown",
   "metadata": {},
   "source": [
    "#### XLS"
   ]
  },
  {
   "cell_type": "code",
   "execution_count": 5,
   "metadata": {},
   "outputs": [
    {
     "name": "stdout",
     "output_type": "stream",
     "text": [
      "              Segment                   Country    Product Discount Band  \\\n",
      "0          Government                    Canada  Carretera          None   \n",
      "1          Government                   Germany  Carretera          None   \n",
      "2           Midmarket                    France  Carretera          None   \n",
      "3           Midmarket                   Germany  Carretera          None   \n",
      "4           Midmarket                    Mexico  Carretera          None   \n",
      "..                ...                       ...        ...           ...   \n",
      "695    Small Business                    France   Amarilla          High   \n",
      "696    Small Business                    Mexico   Amarilla          High   \n",
      "697        Government                    Mexico    Montana          High   \n",
      "698        Government                    Canada      Paseo          High   \n",
      "699  Channel Partners  United States of America        VTT          High   \n",
      "\n",
      "     Units Sold  Manufacturing Price  Sale Price  Gross Sales  Discounts  \\\n",
      "0        1618.5                    3          20      32370.0       0.00   \n",
      "1        1321.0                    3          20      26420.0       0.00   \n",
      "2        2178.0                    3          15      32670.0       0.00   \n",
      "3         888.0                    3          15      13320.0       0.00   \n",
      "4        2470.0                    3          15      37050.0       0.00   \n",
      "..          ...                  ...         ...          ...        ...   \n",
      "695      2475.0                  260         300     742500.0  111375.00   \n",
      "696       546.0                  260         300     163800.0   24570.00   \n",
      "697      1368.0                    5           7       9576.0    1436.40   \n",
      "698       723.0                   10           7       5061.0     759.15   \n",
      "699      1806.0                  250          12      21672.0    3250.80   \n",
      "\n",
      "         Sales      COGS    Profit       Date  Month Number Month Name  Year  \n",
      "0     32370.00   16185.0  16185.00 2014-01-01             1    January  2014  \n",
      "1     26420.00   13210.0  13210.00 2014-01-01             1    January  2014  \n",
      "2     32670.00   21780.0  10890.00 2014-06-01             6       June  2014  \n",
      "3     13320.00    8880.0   4440.00 2014-06-01             6       June  2014  \n",
      "4     37050.00   24700.0  12350.00 2014-06-01             6       June  2014  \n",
      "..         ...       ...       ...        ...           ...        ...   ...  \n",
      "695  631125.00  618750.0  12375.00 2014-03-01             3      March  2014  \n",
      "696  139230.00  136500.0   2730.00 2014-10-01            10    October  2014  \n",
      "697    8139.60    6840.0   1299.60 2014-02-01             2   February  2014  \n",
      "698    4301.85    3615.0    686.85 2014-04-01             4      April  2014  \n",
      "699   18421.20    5418.0  13003.20 2014-05-01             5        May  2014  \n",
      "\n",
      "[700 rows x 16 columns]\n"
     ]
    }
   ],
   "source": [
    "df3 = pd.read_excel('sample_excel.xls')\n",
    "print(df3)"
   ]
  },
  {
   "cell_type": "code",
   "execution_count": 6,
   "metadata": {},
   "outputs": [
    {
     "name": "stdout",
     "output_type": "stream",
     "text": [
      "0      Carretera\n",
      "1      Carretera\n",
      "2      Carretera\n",
      "3      Carretera\n",
      "4      Carretera\n",
      "         ...    \n",
      "695     Amarilla\n",
      "696     Amarilla\n",
      "697      Montana\n",
      "698        Paseo\n",
      "699          VTT\n",
      "Name: Product, Length: 700, dtype: object\n"
     ]
    }
   ],
   "source": [
    "print(df3.loc[:,'Product'])"
   ]
  }
 ],
 "metadata": {
  "kernelspec": {
   "display_name": "Python 3",
   "language": "python",
   "name": "python3"
  },
  "language_info": {
   "codemirror_mode": {
    "name": "ipython",
    "version": 3
   },
   "file_extension": ".py",
   "mimetype": "text/x-python",
   "name": "python",
   "nbconvert_exporter": "python",
   "pygments_lexer": "ipython3",
   "version": "3.8.5"
  }
 },
 "nbformat": 4,
 "nbformat_minor": 4
}
